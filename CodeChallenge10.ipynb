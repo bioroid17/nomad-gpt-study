{
 "cells": [
  {
   "cell_type": "code",
   "execution_count": 1,
   "metadata": {},
   "outputs": [],
   "source": [
    "from langchain.chat_models import ChatOpenAI\n",
    "from langchain.prompts import ChatPromptTemplate\n",
    "from langchain.callbacks import StreamingStdOutCallbackHandler\n",
    "\n",
    "\n",
    "chat = ChatOpenAI(\n",
    "    temperature=0.8,\n",
    "    streaming=True,\n",
    "    callbacks=[StreamingStdOutCallbackHandler()],\n",
    ")"
   ]
  },
  {
   "cell_type": "code",
   "execution_count": 2,
   "metadata": {},
   "outputs": [],
   "source": [
    "haiku_prompt = ChatPromptTemplate.from_messages(\n",
    "    [\n",
    "        (\n",
    "            \"system\",\n",
    "            \"You are a master of haiku. You create a masterpiece of haiku with any given keyword. This time, the keyword given will be one of the programming languages. If the keyword is not a programming language, them do not create haiku.\",\n",
    "        ),\n",
    "        (\"human\", \"I want a haiku about {prog_lang}\"),\n",
    "    ]\n",
    ")\n",
    "\n",
    "haiku_chain = haiku_prompt | chat"
   ]
  },
  {
   "cell_type": "code",
   "execution_count": 3,
   "metadata": {},
   "outputs": [],
   "source": [
    "explain_prompt = ChatPromptTemplate.from_messages(\n",
    "    [\n",
    "        (\n",
    "            \"system\",\n",
    "            \"You are an expert specialized on explaining haiku. You find meanings or intentions that the poet embedded in the haiku. But if you don't get a proper haiku, then notify that you didn't receive any haikus.\",\n",
    "        ),\n",
    "        (\"human\", \"{haiku}\"),\n",
    "    ]\n",
    ")\n",
    "\n",
    "explain_chain = explain_prompt | chat"
   ]
  },
  {
   "cell_type": "code",
   "execution_count": 4,
   "metadata": {},
   "outputs": [
    {
     "name": "stdout",
     "output_type": "stream",
     "text": [
      "Indents guide the code,\n",
      "Python slithers, elegant,\n",
      "Syntax dances free.This haiku beautifully captures the essence of programming in Python. The poet uses the metaphor of \"Python\" to represent the programming language, highlighting its elegance and smoothness. The first line sets the stage, likening the indents in code to a guide that helps navigate and organize the program. The second line introduces the Python language as a sleek and graceful entity, moving effortlessly through the code. Finally, the third line describes how the syntax of Python seems to dance freely within the structure provided by the indents. Overall, this haiku celebrates the beauty and fluidity of Python programming."
     ]
    },
    {
     "data": {
      "text/plain": [
       "AIMessageChunk(content='This haiku beautifully captures the essence of programming in Python. The poet uses the metaphor of \"Python\" to represent the programming language, highlighting its elegance and smoothness. The first line sets the stage, likening the indents in code to a guide that helps navigate and organize the program. The second line introduces the Python language as a sleek and graceful entity, moving effortlessly through the code. Finally, the third line describes how the syntax of Python seems to dance freely within the structure provided by the indents. Overall, this haiku celebrates the beauty and fluidity of Python programming.')"
      ]
     },
     "execution_count": 4,
     "metadata": {},
     "output_type": "execute_result"
    }
   ],
   "source": [
    "final_chain = {\"haiku\": haiku_chain} | explain_chain\n",
    "\n",
    "final_chain.invoke({\"prog_lang\": \"python\"})"
   ]
  }
 ],
 "metadata": {
  "kernelspec": {
   "display_name": "env",
   "language": "python",
   "name": "python3"
  },
  "language_info": {
   "codemirror_mode": {
    "name": "ipython",
    "version": 3
   },
   "file_extension": ".py",
   "mimetype": "text/x-python",
   "name": "python",
   "nbconvert_exporter": "python",
   "pygments_lexer": "ipython3",
   "version": "3.11.2"
  }
 },
 "nbformat": 4,
 "nbformat_minor": 2
}
