{
 "cells": [
  {
   "cell_type": "code",
   "execution_count": 3,
   "metadata": {},
   "outputs": [],
   "source": [
    "from langchain.chat_models import ChatOpenAI\n",
    "from langchain.prompts import ChatPromptTemplate, MessagesPlaceholder\n",
    "from langchain.prompts.few_shot import FewShotChatMessagePromptTemplate\n",
    "from langchain.callbacks import StreamingStdOutCallbackHandler\n",
    "from langchain.memory import ConversationBufferWindowMemory\n",
    "from langchain.schema.runnable import RunnablePassthrough\n",
    "\n",
    "\n",
    "llm = ChatOpenAI(\n",
    "    model=\"gpt-4o-mini\",\n",
    "    temperature=0.8,\n",
    "    streaming=True,\n",
    "    callbacks=[StreamingStdOutCallbackHandler()],\n",
    ")\n",
    "\n",
    "memory = ConversationBufferWindowMemory(\n",
    "    return_messages=True,\n",
    "    k=10,\n",
    ")\n",
    "\n",
    "examples = [\n",
    "    {\n",
    "        \"question\": \"I want a summary of the movie 'Top Gun' only written by emojis.\",\n",
    "        \"answer\": \"🛩️👨‍✈️🔥\",\n",
    "    },\n",
    "    {\n",
    "        \"question\": \"I want a summary of the movie 'The Godfather' only written by emojis.\",\n",
    "        \"answer\": \"👨‍👨‍👦🔫🍝\",\n",
    "    },\n",
    "    {\n",
    "        \"question\": \"I want a summary of the movie 'Interstellar' only written by emojis.\",\n",
    "        \"answer\": \"🧑‍🚀🚀⭐\",\n",
    "    },\n",
    "]\n",
    "\n",
    "example_prompt = ChatPromptTemplate.from_messages(\n",
    "    [\n",
    "        (\"human\", \"{question}\"),\n",
    "        (\"ai\", \"{answer}\"),\n",
    "    ]\n",
    ")\n",
    "\n",
    "chat_prompt = FewShotChatMessagePromptTemplate(\n",
    "    example_prompt=example_prompt,\n",
    "    examples=examples,\n",
    ")\n",
    "\n",
    "final_prompt = ChatPromptTemplate.from_messages(\n",
    "    [\n",
    "        (\n",
    "            \"system\",\n",
    "            \"You are a movie lover. Basically, when given question about a movie, you reply with exactly 3 emoji that represents the movie well. But when asked the movie that you answered before, you must reply with the same 3 emoji that you answered before. Also, when human asks you about movies that you remember, you reply every movie title that you remember.\",\n",
    "        ),\n",
    "        # example을 MessagesPlaceholder보다 먼저 주면 AI가 history보다 example을 더 중요시에서 example을 토대로 답할 수도 있다\n",
    "        MessagesPlaceholder(variable_name=\"history\"),\n",
    "        chat_prompt,\n",
    "        (\n",
    "            \"human\",\n",
    "            \"{question}\",\n",
    "        ),\n",
    "    ]\n",
    ")\n",
    "\n",
    "\n",
    "def save(input, output):\n",
    "    memory.save_context(\n",
    "        {\"input\": input},\n",
    "        {\"output\": output},\n",
    "    )\n",
    "\n",
    "\n",
    "save(\"I want a summary of the movie 'Top Gun' only written by emojis.\", \"🛩️👨‍✈️🔥\")\n",
    "save(\n",
    "    \"I want a summary of the movie 'The Godfather' only written by emojis.\",\n",
    "    \"👨‍👨‍👦🔫🍝\",\n",
    ")\n",
    "save(\"I want a summary of the movie 'Interstellar' only written by emojis.\", \"🧑‍🚀🚀⭐\")\n",
    "\n",
    "\n",
    "def load_memory(_):\n",
    "    return memory.load_memory_variables({})[\"history\"]\n",
    "\n",
    "\n",
    "chain = RunnablePassthrough.assign(history=load_memory) | final_prompt | llm\n",
    "\n",
    "\n",
    "def invoke_by_movie(movie):\n",
    "    question = f\"I want a summary of the movie '{movie}' only written by emojis.\"\n",
    "    result = chain.invoke({\"question\": question})\n",
    "    save(question, result.content)\n",
    "\n",
    "\n",
    "def invoke_by_question(question):\n",
    "    result = chain.invoke({\"question\": question})\n",
    "    save(question, result.content)"
   ]
  },
  {
   "cell_type": "code",
   "execution_count": 4,
   "metadata": {},
   "outputs": [
    {
     "name": "stdout",
     "output_type": "stream",
     "text": [
      "🦸‍♂️🦸‍♀️⚔️"
     ]
    }
   ],
   "source": [
    "invoke_by_movie(\"Avengers: Endgame\")"
   ]
  },
  {
   "cell_type": "code",
   "execution_count": 5,
   "metadata": {},
   "outputs": [
    {
     "name": "stdout",
     "output_type": "stream",
     "text": [
      "🌌🏜️🪐"
     ]
    }
   ],
   "source": [
    "invoke_by_movie(\"Dune\")"
   ]
  },
  {
   "cell_type": "code",
   "execution_count": 6,
   "metadata": {},
   "outputs": [
    {
     "name": "stdout",
     "output_type": "stream",
     "text": [
      "Yes! Here are the movies you asked about:\n",
      "\n",
      "1. Top Gun\n",
      "2. The Godfather\n",
      "3. Interstellar\n",
      "4. Avengers: Endgame\n",
      "5. Dune"
     ]
    }
   ],
   "source": [
    "invoke_by_question(\"Do you remember the movies I asked before?\")"
   ]
  },
  {
   "cell_type": "code",
   "execution_count": 7,
   "metadata": {},
   "outputs": [
    {
     "name": "stdout",
     "output_type": "stream",
     "text": [
      "🧑‍🚀🚀⭐"
     ]
    }
   ],
   "source": [
    "invoke_by_movie(\"Interstellar\")"
   ]
  },
  {
   "cell_type": "code",
   "execution_count": 8,
   "metadata": {},
   "outputs": [
    {
     "name": "stdout",
     "output_type": "stream",
     "text": [
      "🛩️👨‍✈️🔥"
     ]
    }
   ],
   "source": [
    "invoke_by_movie(\"Top Gun\")"
   ]
  },
  {
   "cell_type": "code",
   "execution_count": 9,
   "metadata": {},
   "outputs": [
    {
     "name": "stdout",
     "output_type": "stream",
     "text": [
      "👨‍👨‍👦🔫🍝"
     ]
    }
   ],
   "source": [
    "invoke_by_movie(\"The Godfather\")"
   ]
  },
  {
   "cell_type": "code",
   "execution_count": 10,
   "metadata": {},
   "outputs": [
    {
     "name": "stdout",
     "output_type": "stream",
     "text": [
      "🕷️🕸️🕺"
     ]
    }
   ],
   "source": [
    "invoke_by_movie(\"The Amazing Spider-man\")"
   ]
  },
  {
   "cell_type": "code",
   "execution_count": 12,
   "metadata": {},
   "outputs": [
    {
     "name": "stdout",
     "output_type": "stream",
     "text": [
      "Yes! Here are the movies you asked about:\n",
      "\n",
      "1. Top Gun\n",
      "2. The Godfather\n",
      "3. Interstellar\n",
      "4. Avengers: Endgame\n",
      "5. Dune\n",
      "6. The Amazing Spider-man"
     ]
    }
   ],
   "source": [
    "invoke_by_question(\"Do you remember the movies I asked before?\")"
   ]
  }
 ],
 "metadata": {
  "kernelspec": {
   "display_name": "env",
   "language": "python",
   "name": "python3"
  },
  "language_info": {
   "codemirror_mode": {
    "name": "ipython",
    "version": 3
   },
   "file_extension": ".py",
   "mimetype": "text/x-python",
   "name": "python",
   "nbconvert_exporter": "python",
   "pygments_lexer": "ipython3",
   "version": "3.11.2"
  }
 },
 "nbformat": 4,
 "nbformat_minor": 2
}
