{
 "cells": [
  {
   "cell_type": "code",
   "execution_count": 2,
   "metadata": {},
   "outputs": [
    {
     "name": "stdout",
     "output_type": "stream",
     "text": [
      "Director: Tony Scott\n",
      "Actors: Tom Cruise, Kelly McGillis, Val Kilmer\n",
      "Budget: $15,000,000\n",
      "Profit: $356,830,601\n",
      "Genres: Action, Drama, Romance\n",
      "Synopsis: Maverick, a reckless but extremely skilled fighter pilot, is accepted into the elite \"Top Gun\" Naval Fighter Weapons School, where he competes with the best of the best. Along the way, he falls in love with his civilian instructor, Charlie. Maverick's daredevil antics and competitive spirit put him at odds with his fellow pilots, especially the talented but arrogant Iceman. As Maverick struggles to prove himself both in the air and on the ground, he faces personal challenges that test his limits and push him to be the best."
     ]
    },
    {
     "data": {
      "text/plain": [
       "AIMessageChunk(content='Director: Tony Scott\\nActors: Tom Cruise, Kelly McGillis, Val Kilmer\\nBudget: $15,000,000\\nProfit: $356,830,601\\nGenres: Action, Drama, Romance\\nSynopsis: Maverick, a reckless but extremely skilled fighter pilot, is accepted into the elite \"Top Gun\" Naval Fighter Weapons School, where he competes with the best of the best. Along the way, he falls in love with his civilian instructor, Charlie. Maverick\\'s daredevil antics and competitive spirit put him at odds with his fellow pilots, especially the talented but arrogant Iceman. As Maverick struggles to prove himself both in the air and on the ground, he faces personal challenges that test his limits and push him to be the best.')"
      ]
     },
     "execution_count": 2,
     "metadata": {},
     "output_type": "execute_result"
    }
   ],
   "source": [
    "from langchain.chat_models import ChatOpenAI\n",
    "from langchain.prompts import ChatPromptTemplate\n",
    "from langchain.prompts.few_shot import FewShotChatMessagePromptTemplate\n",
    "from langchain.callbacks import StreamingStdOutCallbackHandler\n",
    "\n",
    "\n",
    "chat = ChatOpenAI(\n",
    "    temperature=0.8,\n",
    "    streaming=True,\n",
    "    callbacks=[StreamingStdOutCallbackHandler()],\n",
    ")\n",
    "\n",
    "examples = [\n",
    "    {\n",
    "        \"movie\": \"Dune: Part Two\",\n",
    "        \"answer\": \"\"\"\n",
    "Director: Denis Villeneuve\n",
    "Actors: Timothée Chalamet, Zendaya, etc.\n",
    "Budget: $190,000,000\n",
    "Profit: $711,844,358\n",
    "Genres: Action, Sci-Fi, etc.\n",
    "Synopsis: Paul Atreides unites with Chani and the Fremen while on a warpath of revenge against the conspirators who destroyed his family. Facing a choice between the love of his life and the fate of the known universe, he endeavors to prevent a terrible future only he can foresee.\n",
    "\"\"\",\n",
    "    },\n",
    "    {\n",
    "        \"movie\": \"Spider-Man: Across the Spider-Verse\",\n",
    "        \"answer\": \"\"\"\n",
    "Director: Joaquim Dos Santos\n",
    "Actors: Shameik Moore, Hailee Steinfeld, etc.\n",
    "Budget: $150,000,000\n",
    "Profit: $690,001,091\n",
    "Genres: Adventure, Animation, etc.\n",
    "Synopsis: Miles Morales returns for the next chapter of the Oscar®-winning Spider-Verse saga, an epic adventure that will transport Brooklyn's full-time, friendly neighborhood Spider-Man across the Multiverse to join forces with Gwen Stacy and a new team of Spider-People to face off with a villain more powerful than anything they have ever encountered.\n",
    "\"\"\",\n",
    "    },\n",
    "    {\n",
    "        \"movie\": \"The Dark Knight\",\n",
    "        \"answer\": \"\"\"\n",
    "Director: Christopher Nolan\n",
    "Actors: Christian Bale, Heath Ledger, Sir Michael Caine, etc\n",
    "Budget: $185,000,000\n",
    "Profit: $1,007,336,937\n",
    "Genres: Crime, Thriller, etc.\n",
    "Synopsis: Set within a year after the events of Batman Begins (2005), Batman, Lieutenant James Gordon, and new District Attorney Harvey Dent successfully begin to round up the criminals that plague Gotham City, until a mysterious and sadistic criminal mastermind known only as The Joker appears in Gotham, creating a new wave of chaos. Batman's struggle against The Joker becomes deeply personal, forcing him to confront everything he believes and improve his technology to stop him. A love triangle develops between Bruce Wayne, Dent, and Rachel Dawes.\n",
    "\"\"\",\n",
    "    },\n",
    "]\n",
    "\n",
    "example_prompt = ChatPromptTemplate.from_messages(\n",
    "    [\n",
    "        (\"human\", \"What do you know about {movie}?\"),\n",
    "        (\"ai\", \"{answer}\"),\n",
    "    ]\n",
    ")\n",
    "\n",
    "chat_prompt = FewShotChatMessagePromptTemplate(\n",
    "    example_prompt=example_prompt,\n",
    "    examples=examples,\n",
    ")\n",
    "\n",
    "final_prompt = ChatPromptTemplate.from_messages(\n",
    "    [\n",
    "        (\n",
    "            \"system\",\n",
    "            \"You are a movie lover. You give an information about the movie. When answering the 'Actor' part, you will answer maximum of 3 actors or less. When answering the 'Genres' part, you will answer maximum of 3 genres or less.\",\n",
    "        ),\n",
    "        chat_prompt,\n",
    "        (\n",
    "            \"human\",\n",
    "            \"I want to know about the director, actors, budget, profit, genres, and the synopsis of the movie {movie}.\",\n",
    "        ),\n",
    "    ]\n",
    ")\n",
    "\n",
    "chain = final_prompt | chat\n",
    "\n",
    "chain.invoke({\"movie\": \"Top Gun\"})"
   ]
  }
 ],
 "metadata": {
  "kernelspec": {
   "display_name": "env",
   "language": "python",
   "name": "python3"
  },
  "language_info": {
   "codemirror_mode": {
    "name": "ipython",
    "version": 3
   },
   "file_extension": ".py",
   "mimetype": "text/x-python",
   "name": "python",
   "nbconvert_exporter": "python",
   "pygments_lexer": "ipython3",
   "version": "3.11.2"
  }
 },
 "nbformat": 4,
 "nbformat_minor": 2
}
